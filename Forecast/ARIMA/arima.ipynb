{
 "cells": [
  {
   "cell_type": "markdown",
   "metadata": {
    "collapsed": true,
    "pycharm": {
     "name": "#%% md\n"
    }
   },
   "source": [
    "# This is the breakdown of my journey with ARIMA\n",
    "\n",
    "So I made a really big mistake at the very start of this project that I did not figure out initially.\n",
    "I had set my very first ARIMA forecasting method to p=150 (or lag of 150). This meant that I was calculating 150 variables\n",
    "for every one variable that I was training. Luckily I figured that out. Now I know that I should stick to the \n",
    "following principles:\n",
    "0 <= p <= 1\n",
    "0 <= d <= 3\n",
    "0 <= q <= 3\n",
    "\n",
    "As soon as I was able to figure the problem out I was able to train a year forecast (2012) in almost no time at all.\n",
    "With the following parameters ARIMA(5, 1, 0). Now the next step for me is to first get a test run up of running\n",
    "ARIMA with the testing data applied to the process. \n"
   ]
  },
  {
   "cell_type": "code",
   "source": [
    "# code of the previous stuff that I have done\n",
    "import numpy as np\n",
    "import pandas as pd\n",
    "from matplotlib import pyplot as plt\n",
    "from statsmodels.tsa.stattools import adfuller\n",
    "from statsmodels.tsa.seasonal import seasonal_decompose\n",
    "from statsmodels.tsa.arima_model import ARIMA\n",
    "from pandas.plotting import register_matplotlib_converters\n",
    "from pandas.plotting import autocorrelation_plot\n",
    "from sklearn.metrics import mean_squared_error\n",
    "from math import sqrt\n",
    "\n",
    "df = pd.read_csv(\"Data/train/fully processing minute data.csv\", index_col=\"time\", parse_dates=True)\n",
    "df_short = df[\"2012\"]\n",
    "# used the find a lag value that makes sense for a time frame. 06 used since it is the the middle of the \n",
    "# year and I know that there will be solar values.\n",
    "autocorrelation_plot(df_short.loc[\"2012-06-01\",\"downwelling_shortwave\"])  # used lag of from this plot\n",
    "plt.show()\n",
    "\n",
    "# now training inital ARIMA model\n",
    "model = ARIMA(df_short[\"downwelling_shortwave\"], order=(5,1,0))\n",
    "model_fit = model.fit(disp=0)\n",
    "# summary of fit model\n",
    "print(model_fit.summary())\n",
    "\n",
    "# plot of residuals. Is Gaussian, big outliers though\n",
    "residuals = pd.DataFrame(model_fit.resid)\n",
    "residuals.plot()\n",
    "plt.show()\n",
    "\n",
    "# density plot of the same\n",
    "residuals.plot(kind='kde')\n",
    "plt.show()\n",
    "# summary stats of residuals\n",
    "print(residuals.describe())\n"
   ],
   "metadata": {
    "collapsed": false,
    "pycharm": {
     "name": "#%%\n"
    }
   },
   "execution_count": null,
   "outputs": []
  },
  {
   "cell_type": "markdown",
   "source": [
    "It is honestly getting to be really fun as things have developed in this process. So I have found out that my entire\n",
    "approach to just use the entire training data set for the whole ARIMA is not feasible. This is mainly due to \n",
    "processing time as the model runs. Since to get an accurate solar forecast in the 20 minute time period that I want\n",
    "I would need to have it run fast enough. The model is unable to do so when it has to cover the entire 6 year dataset.\n",
    "So instead what I need to do is clip the amount of data that the ARIMA method is being exposed to. Then time the \n",
    "processing time that the method takes depending on the data selected. From that point I \n",
    "\n"
   ],
   "metadata": {
    "collapsed": false
   }
  }
 ],
 "metadata": {
  "kernelspec": {
   "display_name": "Python 3",
   "language": "python",
   "name": "python3"
  },
  "language_info": {
   "codemirror_mode": {
    "name": "ipython",
    "version": 2
   },
   "file_extension": ".py",
   "mimetype": "text/x-python",
   "name": "python",
   "nbconvert_exporter": "python",
   "pygments_lexer": "ipython2",
   "version": "2.7.6"
  },
  "pycharm": {
   "stem_cell": {
    "cell_type": "raw",
    "source": [],
    "metadata": {
     "collapsed": false
    }
   }
  }
 },
 "nbformat": 4,
 "nbformat_minor": 0
}