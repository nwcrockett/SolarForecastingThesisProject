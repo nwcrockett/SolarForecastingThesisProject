{
 "cells": [
  {
   "cell_type": "markdown",
   "metadata": {
    "collapsed": true,
    "pycharm": {
     "name": "#%% md\n"
    }
   },
   "source": [
    "# Data cleanup\n",
    "This will outline the process that I am choosing along with the reasons why\n",
    "I have chosen to further remove variables from my dataset. Along with the \n",
    "interpolation methods that I have decided to use to deal with data that is missing\n",
    "in the Training and Validation datasets.\n",
    "\n",
    "Based on year 2007 minute data I have to drop the following variables, reason included.\n",
    "visible_cloud_optical_depth: 432899 missing values out of 525567, 82.4% missing data\n",
    "cloud_radiating_temperature: 174490 missing values out of 525567, 33.2% missing data\n"
   ]
  },
  {
   "cell_type": "code",
   "source": [
    "import pandas as pd\n",
    "import numpy as np\n",
    "# using 2007 as first example. Will check all years\n",
    "df = pd.read_csv(\"/home/nelson/PycharmProjects/Solar Forecasting Thesis Project/\"\n",
    "                 \"Data/train/2007/minute_data_total_year.csv\", index_col=\"time\")\n",
    "df.isnull().sum()  # sums up the missing data \n",
    "\n",
    "count = 0\n",
    "index_holder = 0\n",
    "i = 0\n",
    "while i < len(df.index) :\n",
    "        if np.isnan(df[\"downwelling_shortwave\"].iloc[i]):\n",
    "            for j in range(i, len(df.index)):\n",
    "                if count == 0:\n",
    "                    index_holder = i\n",
    "                if not np.isnan(df[\"downwelling_shortwave\"].iloc[j]):\n",
    "                    count = 0\n",
    "                    index_holder = 0\n",
    "                    break\n",
    "                count += 1\n",
    "                if count == 10:\n",
    "                    print(\"Starts at index \" + df.index[index_holder])\n",
    "                    print(\"10 missing at \" + str(df.index[j]))\n",
    "                i += 1\n",
    "            count = 0\n",
    "            index_holder = 0\n",
    "        i += 1\n",
    "            "
   ],
   "metadata": {
    "collapsed": false,
    "pycharm": {
     "name": "#%% \n"
    }
   },
   "execution_count": null,
   "outputs": []
  }
 ],
 "metadata": {
  "kernelspec": {
   "display_name": "Python 3",
   "language": "python",
   "name": "python3"
  },
  "language_info": {
   "codemirror_mode": {
    "name": "ipython",
    "version": 2
   },
   "file_extension": ".py",
   "mimetype": "text/x-python",
   "name": "python",
   "nbconvert_exporter": "python",
   "pygments_lexer": "ipython2",
   "version": "2.7.6"
  },
  "pycharm": {
   "stem_cell": {
    "cell_type": "raw",
    "source": [],
    "metadata": {
     "collapsed": false
    }
   }
  }
 },
 "nbformat": 4,
 "nbformat_minor": 0
}